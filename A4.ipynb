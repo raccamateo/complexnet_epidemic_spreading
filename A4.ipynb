{
 "cells": [
  {
   "cell_type": "code",
   "id": "initial_id",
   "metadata": {
    "collapsed": true,
    "ExecuteTime": {
     "end_time": "2024-04-29T10:47:07.409327Z",
     "start_time": "2024-04-29T10:47:07.400287Z"
    }
   },
   "source": [
    "import networkx as nx\n",
    "import numpy as np\n",
    "import matplotlib.pyplot as plt\n",
    "import pandas as pd\n",
    "from tqdm import tqdm\n",
    "import scipy as sp"
   ],
   "outputs": [],
   "execution_count": 10
  },
  {
   "metadata": {
    "ExecuteTime": {
     "end_time": "2024-04-29T10:47:08.264250Z",
     "start_time": "2024-04-29T10:47:08.260256Z"
    }
   },
   "cell_type": "code",
   "source": [
    "# SIS simulation for complex network\n",
    "def sis_simulation(G, beta, mu, initial_infected=0.1, Tmax=1000, Ttrans=200):\n",
    "    N = G.number_of_nodes()\n",
    "    infected = np.zeros(N, dtype=bool)\n",
    "    infected[np.random.choice(N, int(N * initial_infected), replace=False)] = True\n",
    "    result_timeseries = []\n",
    "\n",
    "    for _ in range(Tmax):\n",
    "        new_infected = infected.copy()\n",
    "        for node in G.nodes:\n",
    "            if infected[node] and np.random.random() < mu:\n",
    "                new_infected[node] = False\n",
    "            elif not infected[node]:\n",
    "                neighbors = [neighbor for neighbor in G.neighbors(node) if infected[neighbor]]\n",
    "                if neighbors and np.random.random() < 1 - (1 - beta) ** len(neighbors):\n",
    "                    new_infected[node] = True\n",
    "        infected = new_infected\n",
    "        if _ >= Ttrans:\n",
    "            result_timeseries.append(infected.sum() / N)\n",
    "    return np.mean(result_timeseries), result_timeseries"
   ],
   "id": "a29c088b57a7715f",
   "outputs": [],
   "execution_count": 11
  },
  {
   "metadata": {
    "ExecuteTime": {
     "end_time": "2024-04-29T10:47:08.938098Z",
     "start_time": "2024-04-29T10:47:08.935351Z"
    }
   },
   "cell_type": "code",
   "source": [
    "# MMCA for complex network \n",
    "def mmca_prediction(G, beta, mu):\n",
    "    N = G.number_of_nodes()\n",
    "    A = nx.adjacency_matrix(G).todense()\n",
    "    p = np.random.rand(N) * 0.1  # Initial infected probabilities as small random values\n",
    "    convergence_threshold = 1e-4\n",
    "\n",
    "    for _ in range(1000):\n",
    "        new_p = beta * (1 - p) * np.dot(A, p) + (1 - mu) * p\n",
    "        if np.linalg.norm(new_p - p, 1) < convergence_threshold:\n",
    "            break\n",
    "        p = new_p\n",
    "    return np.mean(p)"
   ],
   "id": "58c761363cbc0786",
   "outputs": [],
   "execution_count": 12
  },
  {
   "metadata": {
    "ExecuteTime": {
     "end_time": "2024-04-29T10:47:09.776670Z",
     "start_time": "2024-04-29T10:47:09.772223Z"
    }
   },
   "cell_type": "code",
   "source": [
    "# Create networks for simulation\n",
    "def create_networks(N):\n",
    "    networks = {\n",
    "        \"Erdos_Renyi\": nx.erdos_renyi_graph(n=N, p=0.01),\n",
    "        \"Scale_Free\": nx.barabasi_albert_graph(n=N, m=5),\n",
    "    }\n",
    "    return networks"
   ],
   "id": "140089f2d8bd9241",
   "outputs": [],
   "execution_count": 13
  },
  {
   "metadata": {
    "ExecuteTime": {
     "end_time": "2024-04-30T17:53:14.314126Z",
     "start_time": "2024-04-30T14:58:54.020434Z"
    }
   },
   "cell_type": "code",
   "source": [
    "import networkx as nx\n",
    "import numpy as np\n",
    "import matplotlib.pyplot as plt\n",
    "import pandas as pd\n",
    "from tqdm import tqdm\n",
    "\n",
    "def initialize_infection(N, initial_infected_ratio=0.1):\n",
    "    \"\"\"Initializes the infected population in the network.\"\"\"\n",
    "    infected = np.zeros(N, dtype=bool)\n",
    "    infected[np.random.choice(N, int(N * initial_infected_ratio), replace=False)] = True\n",
    "    return infected\n",
    "\n",
    "def sis_simulation(G, beta, mu, Tmax=1000, Ttrans=200):\n",
    "    \"\"\"Simulates the SIS model using the Monte Carlo method.\"\"\"\n",
    "    N = G.number_of_nodes()\n",
    "    infected = initialize_infection(N)\n",
    "    result_timeseries = []\n",
    "\n",
    "    for _ in range(Tmax):\n",
    "        new_infected = infected.copy()\n",
    "        for node in G.nodes:\n",
    "            if infected[node] and np.random.random() < mu:\n",
    "                new_infected[node] = False\n",
    "            elif not infected[node]:\n",
    "                if any(np.random.random() < beta for neighbor in G.neighbors(node) if infected[neighbor]):\n",
    "                    new_infected[node] = True\n",
    "        infected = new_infected\n",
    "        if _ >= Ttrans:\n",
    "            result_timeseries.append(np.mean(infected))\n",
    "    return np.mean(result_timeseries), result_timeseries\n",
    "\n",
    "def mmca_prediction(G, beta, mu):\n",
    "    \"\"\"Calculates the stationary state fraction of infected nodes using the MMCA model.\"\"\"\n",
    "    N = G.number_of_nodes()\n",
    "    A = nx.adjacency_matrix(G).todense()\n",
    "    p = np.random.rand(N) * 0.1\n",
    "    for _ in range(1000):\n",
    "        new_p = beta * (1 - p) * (A @ p) + (1 - mu) * p\n",
    "        if np.allclose(p, new_p, atol=1e-4):\n",
    "            break\n",
    "        p = new_p\n",
    "    return np.mean(p)\n",
    "\n",
    "def create_networks(N, k=10, p=0.01):\n",
    "    \"\"\"Generates different types of networks based on specified parameters.\"\"\"\n",
    "    return {\n",
    "        \"Erdos_Renyi\": nx.erdos_renyi_graph(n=N, p=p),\n",
    "        \"Scale_Free\": nx.barabasi_albert_graph(n=N, m=k),\n",
    "        \"Small_World\": nx.watts_strogatz_graph(n=N, k=k, p=0.1)\n",
    "    }\n",
    "\n",
    "def run_simulations():\n",
    "    \"\"\"Main function to setup simulations, run them, and output results.\"\"\"\n",
    "    network_sizes = [500, 1000, 1500]\n",
    "    beta_values = np.linspace(0, 1, 99)\n",
    "    mu_values = [0.1, 0.5, 0.9]\n",
    "\n",
    "    for N in network_sizes:\n",
    "        networks = create_networks(N, k=10, p=0.01)\n",
    "        for name, G in networks.items():\n",
    "            nx.write_pajek(G, f\"{name}_{N}.net\")\n",
    "            for mu in mu_values:\n",
    "                mc_results, mmca_results = [], []\n",
    "                for beta in tqdm(beta_values, desc=f\"Simulating {name} with N={N}, mu={mu}\"):\n",
    "                    mc_rho, _ = sis_simulation(G, beta, mu)\n",
    "                    mmca_rho = mmca_prediction(G, beta, mu)\n",
    "                    mc_results.append(mc_rho)\n",
    "                    mmca_results.append(mmca_rho)\n",
    "\n",
    "                df = pd.DataFrame({\n",
    "                    'Beta': beta_values,\n",
    "                    'MC_Rho': mc_results,\n",
    "                    'MMCA_Rho': mmca_results\n",
    "                })\n",
    "                df.to_csv(f\"{name}_N{N}_mu_{mu}.csv\", index=False)\n",
    "\n",
    "                plt.figure(figsize=(10, 6))\n",
    "                plt.plot(beta_values, mc_results, label='Monte Carlo')\n",
    "                plt.plot(beta_values, mmca_results, label='MMCA', linestyle='--')\n",
    "                plt.title(f'SIS Model on {name} Network (N={N}, μ={mu})')\n",
    "                plt.xlabel('Beta (Infection Probability)')\n",
    "                plt.ylabel('Rho (Fraction of Infected Nodes)')\n",
    "                plt.legend()\n",
    "                plt.grid(True)\n",
    "                plt.savefig(f\"Comparison_{name}_N{N}_mu_{mu}.png\")\n",
    "                plt.close()\n",
    "\n",
    "if __name__ == '__main__':\n",
    "    run_simulations()\n"
   ],
   "id": "4855143b129683f7",
   "outputs": [
    {
     "name": "stderr",
     "output_type": "stream",
     "text": [
      "Simulating Erdos_Renyi with N=500, mu=0.1:  17%|█▋        | 17/99 [00:07<00:33,  2.47it/s]/var/folders/hv/8r0914b93k5__tgxzywr4jf80000gn/T/ipykernel_26192/3322112052.py:38: RuntimeWarning: overflow encountered in multiply\n",
      "  new_p = beta * (1 - p) * (A @ p) + (1 - mu) * p\n",
      "/var/folders/hv/8r0914b93k5__tgxzywr4jf80000gn/T/ipykernel_26192/3322112052.py:38: RuntimeWarning: invalid value encountered in matmul\n",
      "  new_p = beta * (1 - p) * (A @ p) + (1 - mu) * p\n",
      "Simulating Erdos_Renyi with N=500, mu=0.1: 100%|██████████| 99/99 [00:56<00:00,  1.76it/s]\n",
      "Simulating Erdos_Renyi with N=500, mu=0.5:  86%|████████▌ | 85/99 [00:54<00:09,  1.54it/s]/var/folders/hv/8r0914b93k5__tgxzywr4jf80000gn/T/ipykernel_26192/3322112052.py:38: RuntimeWarning: overflow encountered in matmul\n",
      "  new_p = beta * (1 - p) * (A @ p) + (1 - mu) * p\n",
      "Simulating Erdos_Renyi with N=500, mu=0.5: 100%|██████████| 99/99 [01:04<00:00,  1.55it/s]\n",
      "Simulating Erdos_Renyi with N=500, mu=0.9: 100%|██████████| 99/99 [01:06<00:00,  1.50it/s]\n",
      "Simulating Scale_Free with N=500, mu=0.1: 100%|██████████| 99/99 [01:02<00:00,  1.58it/s]\n",
      "Simulating Scale_Free with N=500, mu=0.5: 100%|██████████| 99/99 [01:16<00:00,  1.29it/s]\n",
      "Simulating Scale_Free with N=500, mu=0.9: 100%|██████████| 99/99 [01:24<00:00,  1.18it/s]\n",
      "Simulating Small_World with N=500, mu=0.1: 100%|██████████| 99/99 [00:57<00:00,  1.71it/s]\n",
      "Simulating Small_World with N=500, mu=0.5: 100%|██████████| 99/99 [01:09<00:00,  1.42it/s]\n",
      "Simulating Small_World with N=500, mu=0.9: 100%|██████████| 99/99 [01:14<00:00,  1.34it/s]\n",
      "Simulating Erdos_Renyi with N=1000, mu=0.1: 100%|██████████| 99/99 [03:07<00:00,  1.89s/it]\n",
      "Simulating Erdos_Renyi with N=1000, mu=0.5: 100%|██████████| 99/99 [04:02<00:00,  2.45s/it]\n",
      "Simulating Erdos_Renyi with N=1000, mu=0.9: 100%|██████████| 99/99 [04:04<00:00,  2.47s/it]\n",
      "Simulating Scale_Free with N=1000, mu=0.1: 100%|██████████| 99/99 [03:15<00:00,  1.98s/it]\n",
      "Simulating Scale_Free with N=1000, mu=0.5: 100%|██████████| 99/99 [04:57<00:00,  3.00s/it]\n",
      "Simulating Scale_Free with N=1000, mu=0.9: 100%|██████████| 99/99 [06:09<00:00,  3.74s/it]\n",
      "Simulating Small_World with N=1000, mu=0.1: 100%|██████████| 99/99 [04:08<00:00,  2.51s/it]\n",
      "Simulating Small_World with N=1000, mu=0.5: 100%|██████████| 99/99 [03:58<00:00,  2.41s/it]\n",
      "Simulating Small_World with N=1000, mu=0.9: 100%|██████████| 99/99 [03:43<00:00,  2.26s/it]\n",
      "Simulating Erdos_Renyi with N=1500, mu=0.1: 100%|██████████| 99/99 [05:21<00:00,  3.25s/it]\n",
      "Simulating Erdos_Renyi with N=1500, mu=0.5: 100%|██████████| 99/99 [06:01<00:00,  3.65s/it]\n",
      "Simulating Erdos_Renyi with N=1500, mu=0.9: 100%|██████████| 99/99 [14:23<00:00,  8.72s/it]\n",
      "Simulating Scale_Free with N=1500, mu=0.1: 100%|██████████| 99/99 [1:14:03<00:00, 44.88s/it]     \n",
      "Simulating Scale_Free with N=1500, mu=0.5: 100%|██████████| 99/99 [05:45<00:00,  3.49s/it]\n",
      "Simulating Scale_Free with N=1500, mu=0.9: 100%|██████████| 99/99 [06:03<00:00,  3.68s/it]\n",
      "Simulating Small_World with N=1500, mu=0.1: 100%|██████████| 99/99 [04:30<00:00,  2.73s/it]\n",
      "Simulating Small_World with N=1500, mu=0.5: 100%|██████████| 99/99 [05:00<00:00,  3.03s/it]\n",
      "Simulating Small_World with N=1500, mu=0.9: 100%|██████████| 99/99 [05:25<00:00,  3.29s/it]\n"
     ]
    }
   ],
   "execution_count": 24
  },
  {
   "metadata": {},
   "cell_type": "code",
   "outputs": [],
   "execution_count": null,
   "source": "",
   "id": "4fdf749f22f6be43"
  }
 ],
 "metadata": {
  "kernelspec": {
   "display_name": "Python 3",
   "language": "python",
   "name": "python3"
  },
  "language_info": {
   "codemirror_mode": {
    "name": "ipython",
    "version": 2
   },
   "file_extension": ".py",
   "mimetype": "text/x-python",
   "name": "python",
   "nbconvert_exporter": "python",
   "pygments_lexer": "ipython2",
   "version": "2.7.6"
  }
 },
 "nbformat": 4,
 "nbformat_minor": 5
}
